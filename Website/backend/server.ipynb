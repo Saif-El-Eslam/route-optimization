{
 "cells": [
  {
   "cell_type": "code",
   "execution_count": null,
   "metadata": {},
   "outputs": [],
   "source": [
    "# Imports "
   ]
  },
  {
   "cell_type": "code",
   "execution_count": null,
   "metadata": {},
   "outputs": [],
   "source": [
    "# Recieving client request\n",
    "# request body: {'request time', 'pickup location', 'dropoff location', 'passenger count'}\n",
    "# response body: {'dropoff time', 'assigned bus', 'assigned bus route')"
   ]
  },
  {
   "cell_type": "code",
   "execution_count": null,
   "metadata": {},
   "outputs": [],
   "source": [
    "#  Processing client request(determine which bus to assign the request to)\n",
    "\n",
    "# Instantiate a bus route manager:\n",
    "    #bus_route_manager = BusRouteManager(num_buses, capacity, df.iloc[0])\n",
    "# try adding the trip to the bus route manager:\n",
    "    #results = bus_route_manager.add_trip(df.iloc[i], max_pickup_delay, max_dropoff_delay, wait_time)\n",
    "#TODO: the depot of every bus should be the current location of the bus\n",
    "\n",
    "# if the trip is added successfully:\n",
    "    #return the bus id\n",
    "# else:\n",
    "    #return None\n",
    "    #Make the user wait for a while and then try again or try different waiting time\n",
    "\n",
    "#TODO: I think we need to convert the bus fleet to some sort of a databse\n",
    "\n"
   ]
  },
  {
   "cell_type": "code",
   "execution_count": null,
   "metadata": {},
   "outputs": [],
   "source": [
    "# Update the server and the database\n"
   ]
  }
 ],
 "metadata": {
  "language_info": {
   "name": "python"
  },
  "orig_nbformat": 4
 },
 "nbformat": 4,
 "nbformat_minor": 2
}
