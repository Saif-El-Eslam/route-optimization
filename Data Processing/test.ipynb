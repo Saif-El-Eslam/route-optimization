{
 "cells": [
  {
   "cell_type": "code",
   "execution_count": 1,
   "metadata": {},
   "outputs": [
    {
     "name": "stdout",
     "output_type": "stream",
     "text": [
      "buses = [{'bus_id': '1', 'capacity': 24, 'current_location': [-85.5473919, 42.3226625], 'locations': [], 'route': [], 'time_windows': [], 'assigned_trips': [], 'status': 'Active', 'depot': [-85.5473919, 42.3226625]}, {'bus_id': '2', 'capacity': 24, 'current_location': [-85.6880877, 42.2666994], 'locations': [], 'route': [], 'time_windows': [], 'assigned_trips': [], 'status': 'Active', 'depot': [-85.6880877, 42.2666994]}, {'bus_id': '3', 'capacity': 24, 'current_location': [-85.5624162, 42.2977748], 'locations': [], 'route': [], 'time_windows': [], 'assigned_trips': [], 'status': 'Active', 'depot': [-85.5624162, 42.2977748]}, {'bus_id': '4', 'capacity': 24, 'current_location': [-85.5940978, 42.2470918], 'locations': [], 'route': [], 'time_windows': [], 'assigned_trips': [], 'status': 'Active', 'depot': [-85.5940978, 42.2470918]}, {'bus_id': '5', 'capacity': 24, 'current_location': [-85.6102235, 42.2845248], 'locations': [], 'route': [], 'time_windows': [], 'assigned_trips': [], 'status': 'Active', 'depot': [-85.6102235, 42.2845248]}, {'bus_id': '6', 'capacity': 24, 'current_location': [-85.5355127, 42.334607], 'locations': [], 'route': [], 'time_windows': [], 'assigned_trips': [], 'status': 'Active', 'depot': [-85.5355127, 42.334607]}, {'bus_id': '7', 'capacity': 24, 'current_location': [-85.5945787, 42.2475577], 'locations': [], 'route': [], 'time_windows': [], 'assigned_trips': [], 'status': 'Active', 'depot': [-85.5945787, 42.2475577]}, {'bus_id': '8', 'capacity': 24, 'current_location': [-85.5544953, 42.2991703], 'locations': [], 'route': [], 'time_windows': [], 'assigned_trips': [], 'status': 'Active', 'depot': [-85.5544953, 42.2991703]}, {'bus_id': '9', 'capacity': 24, 'current_location': [-85.5636076, 42.2513353], 'locations': [], 'route': [], 'time_windows': [], 'assigned_trips': [], 'status': 'Active', 'depot': [-85.5636076, 42.2513353]}, {'bus_id': '10', 'capacity': 24, 'current_location': [-85.6087517, 42.2077529], 'locations': [], 'route': [], 'time_windows': [], 'assigned_trips': [], 'status': 'Active', 'depot': [-85.6087517, 42.2077529]}, {'bus_id': '11', 'capacity': 24, 'current_location': [-85.457795, 42.399715], 'locations': [], 'route': [], 'time_windows': [], 'assigned_trips': [], 'status': 'Active', 'depot': [-85.457795, 42.399715]}, {'bus_id': '12', 'capacity': 24, 'current_location': [-85.4727853, 42.1543539], 'locations': [], 'route': [], 'time_windows': [], 'assigned_trips': [], 'status': 'Active', 'depot': [-85.4727853, 42.1543539]}, {'bus_id': '13', 'capacity': 24, 'current_location': [-85.5550967, 42.2581612], 'locations': [], 'route': [], 'time_windows': [], 'assigned_trips': [], 'status': 'Active', 'depot': [-85.5550967, 42.2581612]}, {'bus_id': '14', 'capacity': 24, 'current_location': [-85.6320449, 42.2964597], 'locations': [], 'route': [], 'time_windows': [], 'assigned_trips': [], 'status': 'Active', 'depot': [-85.6320449, 42.2964597]}, {'bus_id': '15', 'capacity': 24, 'current_location': [-85.4683159, 42.3747781], 'locations': [], 'route': [], 'time_windows': [], 'assigned_trips': [], 'status': 'Active', 'depot': [-85.4683159, 42.3747781]}, {'bus_id': '16', 'capacity': 24, 'current_location': [-85.5859105, 42.2829969], 'locations': [], 'route': [], 'time_windows': [], 'assigned_trips': [], 'status': 'Active', 'depot': [-85.5859105, 42.2829969]}, {'bus_id': '17', 'capacity': 24, 'current_location': [-85.409809, 42.2933292], 'locations': [], 'route': [], 'time_windows': [], 'assigned_trips': [], 'status': 'Active', 'depot': [-85.409809, 42.2933292]}, {'bus_id': '18', 'capacity': 24, 'current_location': [-85.5033838, 42.1410135], 'locations': [], 'route': [], 'time_windows': [], 'assigned_trips': [], 'status': 'Active', 'depot': [-85.5033838, 42.1410135]}, {'bus_id': '19', 'capacity': 24, 'current_location': [-85.5221051, 42.3280919], 'locations': [], 'route': [], 'time_windows': [], 'assigned_trips': [], 'status': 'Active', 'depot': [-85.5221051, 42.3280919]}, {'bus_id': '20', 'capacity': 24, 'current_location': [-85.5844838, 42.1729487], 'locations': [], 'route': [], 'time_windows': [], 'assigned_trips': [], 'status': 'Active', 'depot': [-85.5844838, 42.1729487]}, {'bus_id': '21', 'capacity': 24, 'current_location': [-85.7262985, 42.2457494], 'locations': [], 'route': [], 'time_windows': [], 'assigned_trips': [], 'status': 'Active', 'depot': [-85.7262985, 42.2457494]}, {'bus_id': '22', 'capacity': 24, 'current_location': [-85.5794339, 42.262203], 'locations': [], 'route': [], 'time_windows': [], 'assigned_trips': [], 'status': 'Active', 'depot': [-85.5794339, 42.262203]}, {'bus_id': '23', 'capacity': 24, 'current_location': [-85.5316711, 42.3407718], 'locations': [], 'route': [], 'time_windows': [], 'assigned_trips': [], 'status': 'Active', 'depot': [-85.5316711, 42.3407718]}, {'bus_id': '24', 'capacity': 24, 'current_location': [-85.7507622, 42.2836978], 'locations': [], 'route': [], 'time_windows': [], 'assigned_trips': [], 'status': 'Active', 'depot': [-85.7507622, 42.2836978]}, {'bus_id': '25', 'capacity': 24, 'current_location': [-85.5585162, 42.3321206], 'locations': [], 'route': [], 'time_windows': [], 'assigned_trips': [], 'status': 'Active', 'depot': [-85.5585162, 42.3321206]}, {'bus_id': '26', 'capacity': 24, 'current_location': [-85.6114028, 42.2036211], 'locations': [], 'route': [], 'time_windows': [], 'assigned_trips': [], 'status': 'Active', 'depot': [-85.6114028, 42.2036211]}, {'bus_id': '27', 'capacity': 24, 'current_location': [-85.7507622, 42.2836978], 'locations': [], 'route': [], 'time_windows': [], 'assigned_trips': [], 'status': 'Active', 'depot': [-85.7507622, 42.2836978]}, {'bus_id': '28', 'capacity': 24, 'current_location': [-85.5701549, 42.2196805], 'locations': [], 'route': [], 'time_windows': [], 'assigned_trips': [], 'status': 'Active', 'depot': [-85.5701549, 42.2196805]}, {'bus_id': '29', 'capacity': 24, 'current_location': [-85.4735514, 42.3071286], 'locations': [], 'route': [], 'time_windows': [], 'assigned_trips': [], 'status': 'Active', 'depot': [-85.4735514, 42.3071286]}, {'bus_id': '30', 'capacity': 24, 'current_location': [-85.642907, 42.2749172], 'locations': [], 'route': [], 'time_windows': [], 'assigned_trips': [], 'status': 'Active', 'depot': [-85.642907, 42.2749172]}, {'bus_id': '31', 'capacity': 24, 'current_location': [-85.4275675, 42.2873505], 'locations': [], 'route': [], 'time_windows': [], 'assigned_trips': [], 'status': 'Active', 'depot': [-85.4275675, 42.2873505]}, {'bus_id': '32', 'capacity': 24, 'current_location': [-85.6495691, 42.2421546], 'locations': [], 'route': [], 'time_windows': [], 'assigned_trips': [], 'status': 'Active', 'depot': [-85.6495691, 42.2421546]}, {'bus_id': '33', 'capacity': 24, 'current_location': [-85.6421558, 42.2899382], 'locations': [], 'route': [], 'time_windows': [], 'assigned_trips': [], 'status': 'Active', 'depot': [-85.6421558, 42.2899382]}, {'bus_id': '34', 'capacity': 24, 'current_location': [-85.70643, 42.293878], 'locations': [], 'route': [], 'time_windows': [], 'assigned_trips': [], 'status': 'Active', 'depot': [-85.70643, 42.293878]}, {'bus_id': '35', 'capacity': 24, 'current_location': [-85.5307056, 42.120423], 'locations': [], 'route': [], 'time_windows': [], 'assigned_trips': [], 'status': 'Active', 'depot': [-85.5307056, 42.120423]}, {'bus_id': '36', 'capacity': 24, 'current_location': [-85.6478465, 42.1707126], 'locations': [], 'route': [], 'time_windows': [], 'assigned_trips': [], 'status': 'Active', 'depot': [-85.6478465, 42.1707126]}, {'bus_id': '37', 'capacity': 24, 'current_location': [-85.6137927, 42.1494793], 'locations': [], 'route': [], 'time_windows': [], 'assigned_trips': [], 'status': 'Active', 'depot': [-85.6137927, 42.1494793]}, {'bus_id': '38', 'capacity': 24, 'current_location': [-85.6259584, 42.3023157], 'locations': [], 'route': [], 'time_windows': [], 'assigned_trips': [], 'status': 'Active', 'depot': [-85.6259584, 42.3023157]}, {'bus_id': '39', 'capacity': 24, 'current_location': [-85.6836554, 42.2523655], 'locations': [], 'route': [], 'time_windows': [], 'assigned_trips': [], 'status': 'Active', 'depot': [-85.6836554, 42.2523655]}, {'bus_id': '40', 'capacity': 24, 'current_location': [-85.6032281, 42.1642518], 'locations': [], 'route': [], 'time_windows': [], 'assigned_trips': [], 'status': 'Active', 'depot': [-85.6032281, 42.1642518]}, {'bus_id': '41', 'capacity': 24, 'current_location': [-85.6142273, 42.2050614], 'locations': [], 'route': [], 'time_windows': [], 'assigned_trips': [], 'status': 'Active', 'depot': [-85.6142273, 42.2050614]}]\n"
     ]
    }
   ],
   "source": [
    "# long, lat, capacity\n",
    "bus_data = \"\"\"1,-85.5473919,42.3226625,24\n",
    "2,-85.6880877,42.2666994,24\n",
    "3,-85.5624162,42.2977748,24\n",
    "4,-85.5940978,42.2470918,24\n",
    "5,-85.6102235,42.2845248,24\n",
    "6,-85.5355127,42.334607,24\n",
    "7,-85.5945787,42.2475577,24\n",
    "8,-85.5544953,42.2991703,24\n",
    "9,-85.5636076,42.2513353,24\n",
    "10,-85.6087517,42.2077529,24\n",
    "11,-85.457795,42.399715,24\n",
    "12,-85.4727853,42.1543539,24\n",
    "13,-85.5550967,42.2581612,24\n",
    "14,-85.6320449,42.2964597,24\n",
    "15,-85.4683159,42.3747781,24\n",
    "16,-85.5859105,42.2829969,24\n",
    "17,-85.409809,42.2933292,24\n",
    "18,-85.5033838,42.1410135,24\n",
    "19,-85.5221051,42.3280919,24\n",
    "20,-85.5844838,42.1729487,24\n",
    "21,-85.7262985,42.2457494,24\n",
    "22,-85.5794339,42.262203,24\n",
    "23,-85.5316711,42.3407718,24\n",
    "24,-85.7507622,42.2836978,24\n",
    "25,-85.5585162,42.3321206,24\n",
    "26,-85.6114028,42.2036211,24\n",
    "27,-85.7507622,42.2836978,24\n",
    "28,-85.5701549,42.2196805,24\n",
    "29,-85.4735514,42.3071286,24\n",
    "30,-85.642907,42.2749172,24\n",
    "31,-85.4275675,42.2873505,24\n",
    "32,-85.6495691,42.2421546,24\n",
    "33,-85.6421558,42.2899382,24\n",
    "34,-85.70643,42.293878,24\n",
    "35,-85.5307056,42.120423,24\n",
    "36,-85.6478465,42.1707126,24\n",
    "37,-85.6137927,42.1494793,24\n",
    "38,-85.6259584,42.3023157,24\n",
    "39,-85.6836554,42.2523655,24\n",
    "40,-85.6032281,42.1642518,24\n",
    "41,-85.6142273,42.2050614,24\"\"\"\n",
    "\n",
    "\n",
    "# Split the data into lines\n",
    "bus_lines = bus_data.split(\"\\n\")\n",
    "\n",
    "# Initialize an empty list to store the bus data\n",
    "buses = []\n",
    "\n",
    "# Process each line and convert it into the desired format\n",
    "for line in bus_lines:\n",
    "    parts = line.split(\",\")\n",
    "    if len(parts) == 4:\n",
    "        bus_id, long, lat, capacity = parts\n",
    "        bus = {\n",
    "            \"bus_id\": bus_id,\n",
    "            \"capacity\": int(capacity),\n",
    "            \"current_location\": [float(long), float(lat)],\n",
    "            \"locations\": [],\n",
    "            \"route\": [],\n",
    "            \"time_windows\": [],\n",
    "            \"assigned_trips\": [],\n",
    "            \"status\": \"Active\",\n",
    "            \"depot\": [float(long), float(lat)],\n",
    "        }\n",
    "        buses.append(bus)\n",
    "\n",
    "# Print the list of buses in the desired format\n",
    "print(\"buses =\", buses)\n",
    "\n"
   ]
  }
 ],
 "metadata": {
  "kernelspec": {
   "display_name": "Python 3",
   "language": "python",
   "name": "python3"
  },
  "language_info": {
   "codemirror_mode": {
    "name": "ipython",
    "version": 3
   },
   "file_extension": ".py",
   "mimetype": "text/x-python",
   "name": "python",
   "nbconvert_exporter": "python",
   "pygments_lexer": "ipython3",
   "version": "3.11.0"
  },
  "orig_nbformat": 4
 },
 "nbformat": 4,
 "nbformat_minor": 2
}
